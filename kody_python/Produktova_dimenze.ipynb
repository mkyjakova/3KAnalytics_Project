{
 "cells": [
  {
   "cell_type": "code",
   "execution_count": 1,
   "id": "8e41ff95",
   "metadata": {},
   "outputs": [],
   "source": [
    "import pandas as pd\n",
    "\n",
    "#Načtení slovníku\n",
    "slovnik = pd.read_csv(r'data\\dictionary.csv')\n",
    "\n",
    "#Odstranění sloupce ID\n",
    "slovnik_bez_id = slovnik.drop(columns=[\"ID\"])\n",
    "\n",
    "\n",
    "Produktova_dimenze = slovnik_bez_id.rename(columns={\n",
    "    \"NO\": \"Product_no\",\n",
    "    \"EN\": \"Product_en\",\n",
    "    \"CZ\": \"Product_cz\",\n",
    "}, inplace=False)\n",
    "\n",
    "\n",
    "\n",
    "Produktova_dimenze.to_csv(\"Produktova_dimenze.csv\", index=False, encoding='utf-8')\n"
   ]
  }
 ],
 "metadata": {
  "kernelspec": {
   "display_name": "Python 3",
   "language": "python",
   "name": "python3"
  },
  "language_info": {
   "codemirror_mode": {
    "name": "ipython",
    "version": 3
   },
   "file_extension": ".py",
   "mimetype": "text/x-python",
   "name": "python",
   "nbconvert_exporter": "python",
   "pygments_lexer": "ipython3",
   "version": "3.13.7"
  }
 },
 "nbformat": 4,
 "nbformat_minor": 5
}
