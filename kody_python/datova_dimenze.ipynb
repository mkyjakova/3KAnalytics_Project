{
 "cells": [
  {
   "cell_type": "code",
   "execution_count": 4,
   "id": "40179dab",
   "metadata": {},
   "outputs": [
    {
     "name": "stdout",
     "output_type": "stream",
     "text": [
      "        Date  Year  Month  Day\n",
      "0 2019-01-01  2019      1    1\n",
      "1 2019-01-02  2019      1    2\n",
      "2 2019-01-03  2019      1    3\n",
      "3 2019-01-04  2019      1    4\n",
      "4 2019-01-05  2019      1    5\n",
      "✅ Prvních 5 řádků s novým sloupcem IsSeason:\n",
      "        Date  Year  Month  Day  IsSeason\n",
      "0 2019-01-01  2019      1    1         0\n",
      "1 2019-01-02  2019      1    2         0\n",
      "2 2019-01-03  2019      1    3         0\n",
      "3 2019-01-04  2019      1    4         0\n",
      "4 2019-01-05  2019      1    5         0\n",
      "\n",
      "Kontrola řádků v sezóně (např. květen):\n",
      "          Date  Year  Month  Day  IsSeason\n",
      "120 2019-05-01  2019      5    1         1\n",
      "121 2019-05-02  2019      5    2         1\n",
      "\n",
      "Date_Dim.csv byl úspěšně uložen do:\n",
      "data\\data\n"
     ]
    }
   ],
   "source": [
    "import pandas as pd\n",
    "datumy = pd.date_range(\"2019-01-01\", \"2025-12-31\")\n",
    "tabulka = pd.DataFrame({\n",
    "    \"Date\": datumy,\n",
    "    \"Year\": datumy.year,\n",
    "    \"Month\": datumy.month,\n",
    "    \"Day\": datumy.day\n",
    "})\n",
    "print(tabulka.head())\n",
    "\n",
    "vystupni_cesta = r\"data\\data\"\n",
    "\n",
    "mesice_sezony = [5, 6, 7, 8]\n",
    "tabulka['IsSeason'] = tabulka['Month'].isin(mesice_sezony).astype(int)\n",
    "\n",
    "print(\"✅ Prvních 5 řádků s novým sloupcem IsSeason:\")\n",
    "print(tabulka.head())\n",
    "print(\"\\nKontrola řádků v sezóně (např. květen):\")\n",
    "print(tabulka[tabulka['Month'] == 5].head(2))\n",
    "\n",
    "tabulka.to_csv(\"Date_Dim.csv\", index=False)\n",
    "print(f\"\\nDate_Dim.csv byl úspěšně uložen do:\\n{vystupni_cesta}\")"
   ]
  }
 ],
 "metadata": {
  "kernelspec": {
   "display_name": "Python 3",
   "language": "python",
   "name": "python3"
  },
  "language_info": {
   "codemirror_mode": {
    "name": "ipython",
    "version": 3
   },
   "file_extension": ".py",
   "mimetype": "text/x-python",
   "name": "python",
   "nbconvert_exporter": "python",
   "pygments_lexer": "ipython3",
   "version": "3.13.7"
  }
 },
 "nbformat": 4,
 "nbformat_minor": 5
}
